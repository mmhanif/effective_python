{
 "cells": [
  {
   "cell_type": "markdown",
   "metadata": {},
   "source": [
    "# Item 32: Consider Generator Expressions for Large List Comprehensions"
   ]
  },
  {
   "cell_type": "markdown",
   "metadata": {},
   "source": [
    "One issue with list comprehensions is that the may create new `list` instances that are as large as the input sequence. If the input sequence is very large, this may cause memory issues."
   ]
  },
  {
   "cell_type": "code",
   "execution_count": null,
   "metadata": {},
   "outputs": [],
   "source": [
    "value = [len(x) for x in open('../data/pride_and_prejudice.txt')]\n",
    "print(value[:10])"
   ]
  },
  {
   "cell_type": "markdown",
   "metadata": {},
   "source": [
    "Instead, Python proivides *generator expressions* which don't materializr the whole output sequence when they are run but instead evaluate to an iterator. A generator expression looks like a list comprehension but with round brackets, `()`, instead of square brackets, `[]`."
   ]
  },
  {
   "cell_type": "code",
   "execution_count": null,
   "metadata": {},
   "outputs": [],
   "source": [
    "it = (len(x) for x in open('../data/pride_and_prejudice.txt'))\n",
    "print(it)"
   ]
  },
  {
   "cell_type": "code",
   "execution_count": null,
   "metadata": {},
   "outputs": [],
   "source": [
    "for _ in range(10):\n",
    "    print(next(it))"
   ]
  },
  {
   "cell_type": "markdown",
   "metadata": {},
   "source": [
    "Generator expressions can also be composed:"
   ]
  },
  {
   "cell_type": "code",
   "execution_count": null,
   "metadata": {},
   "outputs": [],
   "source": [
    "it = (len(x) for x in open('../data/pride_and_prejudice.txt'))\n",
    "roots = ((x, x**0.5) for x in it)\n",
    "\n",
    "print(it)\n",
    "print(roots)\n",
    "\n",
    "print(next(roots))"
   ]
  },
  {
   "cell_type": "markdown",
   "metadata": {},
   "source": [
    "Remember that iterators returned by generator expressions can only be iterated over once."
   ]
  },
  {
   "cell_type": "markdown",
   "metadata": {},
   "source": [
    "## Things to Remember\n",
    "\n",
    "- List comprehensions can cause problems for large inputs by using too much memory\n",
    "- Generator expressions avoid memory issues by producing outputs one at a time as iterators\n",
    "- Generator expressions can be composed by passing the iterator from one generator into the `for` subexpression of another.\n",
    "- Generator expressions execute very quickly when chained together and are memory efficient."
   ]
  },
  {
   "cell_type": "code",
   "execution_count": null,
   "metadata": {},
   "outputs": [],
   "source": []
  }
 ],
 "metadata": {
  "kernelspec": {
   "display_name": "Python 3",
   "language": "python",
   "name": "python3"
  },
  "language_info": {
   "codemirror_mode": {
    "name": "ipython",
    "version": 3
   },
   "file_extension": ".py",
   "mimetype": "text/x-python",
   "name": "python",
   "nbconvert_exporter": "python",
   "pygments_lexer": "ipython3",
   "version": "3.7.3"
  }
 },
 "nbformat": 4,
 "nbformat_minor": 4
}
